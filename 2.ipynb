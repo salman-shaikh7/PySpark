{
 "cells": [
  {
   "cell_type": "markdown",
   "metadata": {},
   "source": [
    "# Intro"
   ]
  },
  {
   "cell_type": "markdown",
   "metadata": {},
   "source": [
    "**Parallel Computing** : Across Multiple threads in same cluster. <br>\n",
    "**Distributed Computing** : Multiple Cluster."
   ]
  },
  {
   "cell_type": "markdown",
   "metadata": {},
   "source": [
    "Hadoop MapReduce is mainly used for batch processing. \\\n",
    "It is written in Java. \\\n",
    "\\\n",
    "Apache Spark used for both batch and real time data processing. "
   ]
  },
  {
   "cell_type": "markdown",
   "metadata": {},
   "source": [
    "Apache Spark Componenent \n",
    "1.   Spark SQL >> which we will be using. <br>\n",
    "2.  MLlib >> Machine Learning basic Models\n",
    "                        "
   ]
  },
  {
   "cell_type": "markdown",
   "metadata": {},
   "source": [
    "Spark Shell\n",
    "1.  PySpark Shell python based command line tool\n",
    "2.  R shell \n",
    "3.  Scala Shell\n",
    "\n",
    "> We will be using Pyspark Shell"
   ]
  },
  {
   "cell_type": "markdown",
   "metadata": {},
   "source": [
    "Spark Context\n",
    "1.  Entry point to shell\n",
    "2.  Default name is \"sc\".\n",
    "3.  sc.version\n",
    "4.  sc.pythonVer\n",
    "5.  sc.master : local[*] using all available threads in local systems"
   ]
  },
  {
   "cell_type": "markdown",
   "metadata": {},
   "source": [
    "```python\n",
    "myrdd_1=sc.parallelize(list1) \n",
    "myrdd_2=sc.textFile(path)\n",
    "```"
   ]
  },
  {
   "cell_type": "markdown",
   "metadata": {},
   "source": [
    ">**Functional Programming in Python**\n",
    "1.  Lambda\n",
    "2.  Map\n",
    "3.  Filter"
   ]
  },
  {
   "cell_type": "markdown",
   "metadata": {},
   "source": [
    "* Lambda\n",
    ">Anonymous function in python are function that don't have name. \\\n",
    ">They are mostly used with Map() and Filter() function.\n",
    "```python\n",
    "add_numbers = lambda x, y: x + y\n",
    "```"
   ]
  },
  {
   "cell_type": "markdown",
   "metadata": {},
   "source": [
    "\n",
    "* Map() \n",
    ">It applies in function to all the items in the list"
   ]
  },
  {
   "cell_type": "code",
   "execution_count": 5,
   "metadata": {},
   "outputs": [
    {
     "data": {
      "text/plain": [
       "[3, 4, 5, 6]"
      ]
     },
     "execution_count": 5,
     "metadata": {},
     "output_type": "execute_result"
    }
   ],
   "source": [
    "list1=[1,2,3,4]\n",
    "list(map(lambda x:x+2,list1))"
   ]
  },
  {
   "cell_type": "markdown",
   "metadata": {},
   "source": [
    "* Filter()\n",
    "> Return values from function must be boolen."
   ]
  },
  {
   "cell_type": "code",
   "execution_count": 2,
   "metadata": {},
   "outputs": [
    {
     "data": {
      "text/plain": [
       "[3, 4]"
      ]
     },
     "execution_count": 2,
     "metadata": {},
     "output_type": "execute_result"
    }
   ],
   "source": [
    "l1=[1,2,3,4]\n",
    "list(filter(lambda x: x>2,l1))"
   ]
  },
  {
   "cell_type": "markdown",
   "metadata": {},
   "source": [
    "# RDD"
   ]
  },
  {
   "cell_type": "markdown",
   "metadata": {},
   "source": [
    "R: Resilient (Failure Resistance) \\\n",
    "D: Distributed (spanning across multiple machines)\\\n",
    "D: Dataset (array, tables)"
   ]
  },
  {
   "cell_type": "markdown",
   "metadata": {},
   "source": []
  }
 ],
 "metadata": {
  "kernelspec": {
   "display_name": "Python 3",
   "language": "python",
   "name": "python3"
  },
  "language_info": {
   "codemirror_mode": {
    "name": "ipython",
    "version": 3
   },
   "file_extension": ".py",
   "mimetype": "text/x-python",
   "name": "python",
   "nbconvert_exporter": "python",
   "pygments_lexer": "ipython3",
   "version": "3.10.13"
  }
 },
 "nbformat": 4,
 "nbformat_minor": 2
}
